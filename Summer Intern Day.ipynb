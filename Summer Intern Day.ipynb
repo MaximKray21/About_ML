{
 "cells": [
  {
   "cell_type": "markdown",
   "id": "8276e1b9",
   "metadata": {},
   "source": [
    "The list of hrefs to problems:\n",
    "    https://contest.yandex.ru/contest/50515/problems/A/\n",
    "    https://contest.yandex.ru/contest/50515/problems/B/"
   ]
  },
  {
   "cell_type": "markdown",
   "id": "9258cefb",
   "metadata": {},
   "source": [
    "**A. Лог без дат**"
   ]
  },
  {
   "cell_type": "code",
   "execution_count": null,
   "id": "0c4b704e",
   "metadata": {},
   "outputs": [],
   "source": [
    "n = int(input())\n",
    "counter = 1\n",
    "\n",
    "prev = list(map(int, input().split(':')))\n",
    "prev_time = prev[0] * 3600 + prev[1] * 60 + prev[2]\n",
    "for _ in range(n - 1):\n",
    "    cur = list(map(int, input().split(':')))\n",
    "    cur_time = cur[0] * 3600 + cur[1] * 60 + cur[2]\n",
    "    if cur_time <= prev_time:\n",
    "        counter += 1\n",
    "    prev_time = cur_time\n",
    "    \n",
    "print(counter)"
   ]
  },
  {
   "cell_type": "markdown",
   "id": "e7efc709",
   "metadata": {},
   "source": [
    "**B. Игра с заменами**"
   ]
  },
  {
   "cell_type": "code",
   "execution_count": null,
   "id": "b22ade17",
   "metadata": {},
   "outputs": [],
   "source": [
    "def f(s, c):\n",
    "  for letter_indx in range(len(s)):\n",
    "    letter = s[letter_indx]\n",
    "    if letter not in c:\n",
    "      c[letter] = []\n",
    "    c[letter].append(letter_indx)\n",
    "  return c\n",
    "\n",
    "for _ in range(int(input())):\n",
    "  s1, s2 = input(), input()\n",
    "  c1, c2 = f(s1, {}), f(s2, {})\n",
    "  if list(c1.values()) == list(c2.values()):\n",
    "    print('YES')\n",
    "    continue\n",
    "  print('NO')"
   ]
  }
 ],
 "metadata": {
  "kernelspec": {
   "display_name": "Python 3 (ipykernel)",
   "language": "python",
   "name": "python3"
  },
  "language_info": {
   "codemirror_mode": {
    "name": "ipython",
    "version": 3
   },
   "file_extension": ".py",
   "mimetype": "text/x-python",
   "name": "python",
   "nbconvert_exporter": "python",
   "pygments_lexer": "ipython3",
   "version": "3.9.7"
  }
 },
 "nbformat": 4,
 "nbformat_minor": 5
}
